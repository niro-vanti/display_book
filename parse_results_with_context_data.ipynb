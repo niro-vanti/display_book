{
 "cells": [
  {
   "cell_type": "code",
   "execution_count": 1,
   "metadata": {},
   "outputs": [],
   "source": [
    "import pandas as pd\n",
    "import os"
   ]
  },
  {
   "cell_type": "code",
   "execution_count": 38,
   "metadata": {},
   "outputs": [],
   "source": [
    "def parse_into_folders(df, filename, folder_name):\n",
    "    stage_name = filename.split(' ')[-1].split('.')[0]\n",
    "    mini_folders = ['False_Negative', 'False_Positive','True Negative','True Positive']\n",
    "    label = [1,0,0,1]\n",
    "    vanti = [0,1,0,1]\n",
    "    \n",
    "    os.mkdir(os.path.join(folder_name, stage_name))\n",
    "    for mini_folder, local_label, local_vanti in zip(mini_folders, label, vanti):\n",
    "        new_dir = os.path.join(folder_name, stage_name, mini_folder)\n",
    "        \n",
    "        os.mkdir(new_dir)\n",
    "        df_t = df[df['label'] == local_label]\n",
    "        df_t = df_t[df_t[df.columns[-1]] == local_vanti]\n",
    "        local_name = stage_name + mini_folder\n",
    "        df_t.to_csv(os.path.join(new_dir, stage_name+'_'+mini_folder+'.csv'))"
   ]
  },
  {
   "cell_type": "code",
   "execution_count": 39,
   "metadata": {},
   "outputs": [],
   "source": []
  },
  {
   "cell_type": "code",
   "execution_count": 14,
   "metadata": {},
   "outputs": [
    {
     "name": "stdout",
     "output_type": "stream",
     "text": [
      "False_Negative 1\n",
      "False_Positive 0\n",
      "True Negative 0\n",
      "True Positive 1\n"
     ]
    }
   ],
   "source": []
  },
  {
   "cell_type": "code",
   "execution_count": 2,
   "metadata": {},
   "outputs": [],
   "source": [
    "folder_name = 'context_results/'"
   ]
  },
  {
   "cell_type": "code",
   "execution_count": 41,
   "metadata": {},
   "outputs": [],
   "source": [
    "for id, filename in enumerate(os.listdir(folder_name)):\n",
    "    if 'csv' in filename:\n",
    "        df = pd.read_csv(os.path.join(folder_name,filename))\n",
    "        parse_into_folders(df, filename, folder_name)\n",
    "# df.head()"
   ]
  },
  {
   "cell_type": "code",
   "execution_count": null,
   "metadata": {},
   "outputs": [],
   "source": []
  }
 ],
 "metadata": {
  "kernelspec": {
   "display_name": "Python 3",
   "language": "python",
   "name": "python3"
  },
  "language_info": {
   "codemirror_mode": {
    "name": "ipython",
    "version": 3
   },
   "file_extension": ".py",
   "mimetype": "text/x-python",
   "name": "python",
   "nbconvert_exporter": "python",
   "pygments_lexer": "ipython3",
   "version": "3.6.8"
  }
 },
 "nbformat": 4,
 "nbformat_minor": 4
}
